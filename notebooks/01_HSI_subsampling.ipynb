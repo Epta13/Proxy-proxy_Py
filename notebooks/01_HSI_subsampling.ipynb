{
 "cells": [
  {
   "cell_type": "markdown",
   "id": "c8851c3e-dc18-44b7-866f-5c07876b356e",
   "metadata": {},
   "source": [
    "# Load packages"
   ]
  },
  {
   "cell_type": "code",
   "execution_count": 8,
   "id": "acf884bd-351d-4583-b8bd-ac55e237c539",
   "metadata": {
    "tags": []
   },
   "outputs": [
    {
     "name": "stdout",
     "output_type": "stream",
     "text": [
      "Requirement already satisfied: pandas in /opt/conda/lib/python3.10/site-packages (2.3.1)\n",
      "Requirement already satisfied: numpy>=1.22.4 in /opt/conda/lib/python3.10/site-packages (from pandas) (2.2.6)\n",
      "Requirement already satisfied: python-dateutil>=2.8.2 in /opt/conda/lib/python3.10/site-packages (from pandas) (2.8.2)\n",
      "Requirement already satisfied: pytz>=2020.1 in /opt/conda/lib/python3.10/site-packages (from pandas) (2023.3)\n",
      "Requirement already satisfied: tzdata>=2022.7 in /opt/conda/lib/python3.10/site-packages (from pandas) (2025.2)\n",
      "Requirement already satisfied: six>=1.5 in /opt/conda/lib/python3.10/site-packages (from python-dateutil>=2.8.2->pandas) (1.16.0)\n",
      "Requirement already satisfied: openpyxl in /opt/conda/lib/python3.10/site-packages (3.1.5)\n",
      "Requirement already satisfied: et-xmlfile in /opt/conda/lib/python3.10/site-packages (from openpyxl) (2.0.0)\n"
     ]
    }
   ],
   "source": [
    "!pip install pandas\n",
    "!pip install openpyxl\n",
    "\n",
    "import glob\n",
    "import os\n",
    "\n",
    "import pandas as pd"
   ]
  },
  {
   "cell_type": "markdown",
   "id": "69f26e25-32fb-45d2-b6e7-c8d0f0acf969",
   "metadata": {},
   "source": [
    "# Load the sample list"
   ]
  },
  {
   "cell_type": "markdown",
   "id": "314a10d1-6b0a-4b91-87f4-43ea0e493003",
   "metadata": {},
   "source": [
    "The list of samples selected for the proxy-proxy calibration needs to have certain format in order to be compatible with this code.\n",
    "See the file structure below. "
   ]
  },
  {
   "cell_type": "code",
   "execution_count": 9,
   "id": "35fd02c9-d39a-45d8-b871-3e3e05f3dbda",
   "metadata": {
    "tags": []
   },
   "outputs": [
    {
     "name": "stdout",
     "output_type": "stream",
     "text": [
      "   SampleName  DepthStart_mm  DepthEnd_mm  weight (g)  dilution  Total volume\n",
      "0        C1-1            510          520      0.5066         1             3\n",
      "1        C1-2            570          580      0.5265         1             3\n",
      "2        B1-2            300          310      0.5293         1             3\n",
      "3        B1-2            400          410      0.5072         1             3\n",
      "4        B1-2            500          510      0.5070         1             3\n",
      "5        B1-2            800          810      0.5112         1             3\n",
      "6        B1-2            900          910      0.5026         1             3\n",
      "7        A2-2            700          710      0.5028         1             5\n",
      "8        A2-2            900          910      0.5180         1             5\n",
      "9        A2-3            300          310      0.5123         1            10\n",
      "10       A2-3            400          410      0.5094         1            10\n",
      "11       A2-3            900          910      0.5250         1            10\n"
     ]
    }
   ],
   "source": [
    "df_lookup = pd.read_excel('../data/SourceData/Calib_samples.xlsx')\n",
    "print(df_lookup)"
   ]
  },
  {
   "cell_type": "markdown",
   "id": "ca0d2a6a-5bec-471e-a5ff-6f8994f4ff7a",
   "metadata": {},
   "source": [
    "# Load the folder with HSI data"
   ]
  },
  {
   "cell_type": "markdown",
   "id": "f16abc98-fda7-442f-9a8e-aca6063c5047",
   "metadata": {},
   "source": [
    "All the hyperspectral data should be placed in one HSI folder. Each core, which was subsampled from proxy-proxy proxy calibation needs to be in a separate csv file (output of e.g., napari-sediment) and the file needs to contain the SampleName from the list of samples.\n",
    "Example: core C1-1 subsample will be looked up in a file which has C1-1 or C1_1 in its name: \"C1_1_index_projection.csv\"."
   ]
  },
  {
   "cell_type": "markdown",
   "id": "6da9b228-e3de-47c7-a8d5-b78b817704d8",
   "metadata": {},
   "source": [
    "### Looks up all the csv files in the folder"
   ]
  },
  {
   "cell_type": "code",
   "execution_count": 10,
   "id": "6eabdd86-e608-4f89-a31f-51b1272369c1",
   "metadata": {
    "tags": []
   },
   "outputs": [
    {
     "name": "stdout",
     "output_type": "stream",
     "text": [
      "['../data/HSI/C1_1_index_projection.csv', '../data/HSI/C1_2_index_projection.csv', '../data/HSI/A2_3_index_projection.csv', '../data/HSI/A2_2_index_projection.csv', '../data/HSI/B1_2_index_projection.csv']\n"
     ]
    }
   ],
   "source": [
    "path = r'../data/HSI'\n",
    "all_files = glob.glob(os.path.join(path, \"*.csv\"))\n",
    "print(all_files)"
   ]
  },
  {
   "cell_type": "markdown",
   "id": "d1337cd6-a234-409b-8ba2-c42382877873",
   "metadata": {},
   "source": [
    "### Extraction of the dataframe names from the csv files"
   ]
  },
  {
   "cell_type": "code",
   "execution_count": 11,
   "id": "5d3848c4-cba2-4de8-b9a6-f79c210ac6bf",
   "metadata": {
    "tags": []
   },
   "outputs": [
    {
     "name": "stdout",
     "output_type": "stream",
     "text": [
      "C1-1\n",
      "C1-2\n",
      "A2-3\n",
      "A2-2\n",
      "B1-2\n"
     ]
    }
   ],
   "source": [
    "df_index = {}\n",
    "\n",
    "for f in all_files:\n",
    "    sample_name = os.path.basename(f)[:4].replace('_', '-')  # sample_name == 'B1-2' etc., this may be changed based on the file naming.\n",
    "    print(sample_name)\n",
    "    sample_df = pd.read_csv(f)\n",
    "    # display(sample_df)\n",
    "    df_index[sample_name] = sample_df"
   ]
  },
  {
   "cell_type": "markdown",
   "id": "de776c30-10ba-45e9-b340-860cb207fba5",
   "metadata": {},
   "source": [
    "# Extracting the average of RABD data in the given intervals from the sample list"
   ]
  },
  {
   "cell_type": "code",
   "execution_count": 12,
   "id": "77f5630e-a76d-4dcb-8b09-51ed469f3981",
   "metadata": {
    "tags": []
   },
   "outputs": [
    {
     "data": {
      "text/html": [
       "<div>\n",
       "<style scoped>\n",
       "    .dataframe tbody tr th:only-of-type {\n",
       "        vertical-align: middle;\n",
       "    }\n",
       "\n",
       "    .dataframe tbody tr th {\n",
       "        vertical-align: top;\n",
       "    }\n",
       "\n",
       "    .dataframe thead th {\n",
       "        text-align: right;\n",
       "    }\n",
       "</style>\n",
       "<table border=\"1\" class=\"dataframe\">\n",
       "  <thead>\n",
       "    <tr style=\"text-align: right;\">\n",
       "      <th></th>\n",
       "      <th>SampleName</th>\n",
       "      <th>DepthStart_mm</th>\n",
       "      <th>DepthEnd_mm</th>\n",
       "      <th>weight (g)</th>\n",
       "      <th>dilution</th>\n",
       "      <th>Total volume</th>\n",
       "      <th>RABD620</th>\n",
       "      <th>RABD670</th>\n",
       "      <th>RABD715</th>\n",
       "      <th>RABD845</th>\n",
       "      <th>RABD830</th>\n",
       "    </tr>\n",
       "  </thead>\n",
       "  <tbody>\n",
       "    <tr>\n",
       "      <th>0</th>\n",
       "      <td>C1-1</td>\n",
       "      <td>510</td>\n",
       "      <td>520</td>\n",
       "      <td>0.5066</td>\n",
       "      <td>1</td>\n",
       "      <td>3</td>\n",
       "      <td>1.000543</td>\n",
       "      <td>0.999554</td>\n",
       "      <td>1.002725</td>\n",
       "      <td>0.998265</td>\n",
       "      <td>0.991278</td>\n",
       "    </tr>\n",
       "    <tr>\n",
       "      <th>1</th>\n",
       "      <td>C1-2</td>\n",
       "      <td>570</td>\n",
       "      <td>580</td>\n",
       "      <td>0.5265</td>\n",
       "      <td>1</td>\n",
       "      <td>3</td>\n",
       "      <td>1.000758</td>\n",
       "      <td>1.003030</td>\n",
       "      <td>1.003396</td>\n",
       "      <td>0.997679</td>\n",
       "      <td>0.991728</td>\n",
       "    </tr>\n",
       "    <tr>\n",
       "      <th>2</th>\n",
       "      <td>B1-2</td>\n",
       "      <td>300</td>\n",
       "      <td>310</td>\n",
       "      <td>0.5293</td>\n",
       "      <td>1</td>\n",
       "      <td>3</td>\n",
       "      <td>1.000230</td>\n",
       "      <td>0.997570</td>\n",
       "      <td>1.006509</td>\n",
       "      <td>0.999043</td>\n",
       "      <td>0.993018</td>\n",
       "    </tr>\n",
       "    <tr>\n",
       "      <th>3</th>\n",
       "      <td>B1-2</td>\n",
       "      <td>400</td>\n",
       "      <td>410</td>\n",
       "      <td>0.5072</td>\n",
       "      <td>1</td>\n",
       "      <td>3</td>\n",
       "      <td>1.001288</td>\n",
       "      <td>0.995181</td>\n",
       "      <td>1.003832</td>\n",
       "      <td>1.000731</td>\n",
       "      <td>1.000873</td>\n",
       "    </tr>\n",
       "    <tr>\n",
       "      <th>4</th>\n",
       "      <td>B1-2</td>\n",
       "      <td>500</td>\n",
       "      <td>510</td>\n",
       "      <td>0.5070</td>\n",
       "      <td>1</td>\n",
       "      <td>3</td>\n",
       "      <td>1.002085</td>\n",
       "      <td>0.996406</td>\n",
       "      <td>1.005268</td>\n",
       "      <td>0.999786</td>\n",
       "      <td>1.000257</td>\n",
       "    </tr>\n",
       "    <tr>\n",
       "      <th>5</th>\n",
       "      <td>B1-2</td>\n",
       "      <td>800</td>\n",
       "      <td>810</td>\n",
       "      <td>0.5112</td>\n",
       "      <td>1</td>\n",
       "      <td>3</td>\n",
       "      <td>1.001102</td>\n",
       "      <td>0.999079</td>\n",
       "      <td>1.003776</td>\n",
       "      <td>0.998330</td>\n",
       "      <td>0.992447</td>\n",
       "    </tr>\n",
       "    <tr>\n",
       "      <th>6</th>\n",
       "      <td>B1-2</td>\n",
       "      <td>900</td>\n",
       "      <td>910</td>\n",
       "      <td>0.5026</td>\n",
       "      <td>1</td>\n",
       "      <td>3</td>\n",
       "      <td>1.002708</td>\n",
       "      <td>0.996101</td>\n",
       "      <td>1.005398</td>\n",
       "      <td>0.999266</td>\n",
       "      <td>1.002791</td>\n",
       "    </tr>\n",
       "    <tr>\n",
       "      <th>7</th>\n",
       "      <td>A2-2</td>\n",
       "      <td>700</td>\n",
       "      <td>710</td>\n",
       "      <td>0.5028</td>\n",
       "      <td>1</td>\n",
       "      <td>5</td>\n",
       "      <td>1.003503</td>\n",
       "      <td>1.012935</td>\n",
       "      <td>0.996508</td>\n",
       "      <td>1.000880</td>\n",
       "      <td>0.991702</td>\n",
       "    </tr>\n",
       "    <tr>\n",
       "      <th>8</th>\n",
       "      <td>A2-2</td>\n",
       "      <td>900</td>\n",
       "      <td>910</td>\n",
       "      <td>0.5180</td>\n",
       "      <td>1</td>\n",
       "      <td>5</td>\n",
       "      <td>1.002802</td>\n",
       "      <td>1.012306</td>\n",
       "      <td>0.996479</td>\n",
       "      <td>0.999743</td>\n",
       "      <td>0.992237</td>\n",
       "    </tr>\n",
       "    <tr>\n",
       "      <th>9</th>\n",
       "      <td>A2-3</td>\n",
       "      <td>300</td>\n",
       "      <td>310</td>\n",
       "      <td>0.5123</td>\n",
       "      <td>1</td>\n",
       "      <td>10</td>\n",
       "      <td>1.008281</td>\n",
       "      <td>1.038394</td>\n",
       "      <td>1.068685</td>\n",
       "      <td>1.005900</td>\n",
       "      <td>1.003254</td>\n",
       "    </tr>\n",
       "    <tr>\n",
       "      <th>10</th>\n",
       "      <td>A2-3</td>\n",
       "      <td>400</td>\n",
       "      <td>410</td>\n",
       "      <td>0.5094</td>\n",
       "      <td>1</td>\n",
       "      <td>10</td>\n",
       "      <td>1.011798</td>\n",
       "      <td>1.024901</td>\n",
       "      <td>1.008199</td>\n",
       "      <td>1.003471</td>\n",
       "      <td>0.994369</td>\n",
       "    </tr>\n",
       "    <tr>\n",
       "      <th>11</th>\n",
       "      <td>A2-3</td>\n",
       "      <td>900</td>\n",
       "      <td>910</td>\n",
       "      <td>0.5250</td>\n",
       "      <td>1</td>\n",
       "      <td>10</td>\n",
       "      <td>1.030226</td>\n",
       "      <td>1.077033</td>\n",
       "      <td>1.109191</td>\n",
       "      <td>1.041711</td>\n",
       "      <td>1.044966</td>\n",
       "    </tr>\n",
       "  </tbody>\n",
       "</table>\n",
       "</div>"
      ],
      "text/plain": [
       "   SampleName  DepthStart_mm  DepthEnd_mm  weight (g)  dilution  Total volume  \\\n",
       "0        C1-1            510          520      0.5066         1             3   \n",
       "1        C1-2            570          580      0.5265         1             3   \n",
       "2        B1-2            300          310      0.5293         1             3   \n",
       "3        B1-2            400          410      0.5072         1             3   \n",
       "4        B1-2            500          510      0.5070         1             3   \n",
       "5        B1-2            800          810      0.5112         1             3   \n",
       "6        B1-2            900          910      0.5026         1             3   \n",
       "7        A2-2            700          710      0.5028         1             5   \n",
       "8        A2-2            900          910      0.5180         1             5   \n",
       "9        A2-3            300          310      0.5123         1            10   \n",
       "10       A2-3            400          410      0.5094         1            10   \n",
       "11       A2-3            900          910      0.5250         1            10   \n",
       "\n",
       "     RABD620   RABD670   RABD715   RABD845   RABD830  \n",
       "0   1.000543  0.999554  1.002725  0.998265  0.991278  \n",
       "1   1.000758  1.003030  1.003396  0.997679  0.991728  \n",
       "2   1.000230  0.997570  1.006509  0.999043  0.993018  \n",
       "3   1.001288  0.995181  1.003832  1.000731  1.000873  \n",
       "4   1.002085  0.996406  1.005268  0.999786  1.000257  \n",
       "5   1.001102  0.999079  1.003776  0.998330  0.992447  \n",
       "6   1.002708  0.996101  1.005398  0.999266  1.002791  \n",
       "7   1.003503  1.012935  0.996508  1.000880  0.991702  \n",
       "8   1.002802  1.012306  0.996479  0.999743  0.992237  \n",
       "9   1.008281  1.038394  1.068685  1.005900  1.003254  \n",
       "10  1.011798  1.024901  1.008199  1.003471  0.994369  \n",
       "11  1.030226  1.077033  1.109191  1.041711  1.044966  "
      ]
     },
     "metadata": {},
     "output_type": "display_data"
    }
   ],
   "source": [
    "depth_col = 'depth [mm]' #name of the depth column in the HSI data used for looking up the ranges of calibration samples\n",
    "\n",
    "for index, row in df_lookup.iterrows():\n",
    "    sample_name = row['SampleName']\n",
    "    start = row['DepthStart_mm']\n",
    "    end = row['DepthEnd_mm']\n",
    "    df = df_index[sample_name]\n",
    "    df = df[(df[depth_col] >= start) & (df[depth_col] <= end)]\n",
    "    mean_values = df.filter(like='RABD', axis=1).mean()\n",
    "    for col, val in mean_values.items():\n",
    "        df_lookup.at[index, col] = val\n",
    "display(df_lookup)"
   ]
  },
  {
   "cell_type": "markdown",
   "id": "520e250c-b319-4ffb-abe5-5994004c0271",
   "metadata": {},
   "source": [
    "# Saving the updated dataframe"
   ]
  },
  {
   "cell_type": "code",
   "execution_count": 13,
   "id": "7fd869c4-1ea1-4fb6-a5f0-b9ed06a33955",
   "metadata": {
    "tags": []
   },
   "outputs": [],
   "source": [
    "df_lookup.to_excel(\"../data/Calib_RABDs.xlsx\")"
   ]
  },
  {
   "cell_type": "code",
   "execution_count": null,
   "id": "98fc7285-9741-4750-85b9-5bd72e09aded",
   "metadata": {},
   "outputs": [],
   "source": []
  }
 ],
 "metadata": {
  "kernelspec": {
   "display_name": "Python 3 (ipykernel)",
   "language": "python",
   "name": "python3"
  },
  "language_info": {
   "codemirror_mode": {
    "name": "ipython",
    "version": 3
   },
   "file_extension": ".py",
   "mimetype": "text/x-python",
   "name": "python",
   "nbconvert_exporter": "python",
   "pygments_lexer": "ipython3",
   "version": "3.10.11"
  }
 },
 "nbformat": 4,
 "nbformat_minor": 5
}
